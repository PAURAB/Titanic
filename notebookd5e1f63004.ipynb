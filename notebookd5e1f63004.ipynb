{
  "metadata": {
    "kernelspec": {
      "language": "python",
      "display_name": "Python 3",
      "name": "python3"
    },
    "language_info": {
      "name": "python",
      "version": "3.10.13",
      "mimetype": "text/x-python",
      "codemirror_mode": {
        "name": "ipython",
        "version": 3
      },
      "pygments_lexer": "ipython3",
      "nbconvert_exporter": "python",
      "file_extension": ".py"
    },
    "kaggle": {
      "accelerator": "none",
      "dataSources": [
        {
          "sourceId": 3136,
          "databundleVersionId": 26502,
          "sourceType": "competition"
        }
      ],
      "dockerImageVersionId": 30646,
      "isInternetEnabled": false,
      "language": "python",
      "sourceType": "notebook",
      "isGpuEnabled": false
    },
    "colab": {
      "name": "notebookd5e1f63004",
      "provenance": [],
      "include_colab_link": true
    }
  },
  "nbformat_minor": 0,
  "nbformat": 4,
  "cells": [
    {
      "cell_type": "markdown",
      "metadata": {
        "id": "view-in-github",
        "colab_type": "text"
      },
      "source": [
        "<a href=\"https://colab.research.google.com/github/PAURAB/Titanic/blob/main/notebookd5e1f63004.ipynb\" target=\"_parent\"><img src=\"https://colab.research.google.com/assets/colab-badge.svg\" alt=\"Open In Colab\"/></a>"
      ]
    },
    {
      "source": [
        "\n",
        "# IMPORTANT: RUN THIS CELL IN ORDER TO IMPORT YOUR KAGGLE DATA SOURCES\n",
        "# TO THE CORRECT LOCATION (/kaggle/input) IN YOUR NOTEBOOK,\n",
        "# THEN FEEL FREE TO DELETE THIS CELL.\n",
        "# NOTE: THIS NOTEBOOK ENVIRONMENT DIFFERS FROM KAGGLE'S PYTHON\n",
        "# ENVIRONMENT SO THERE MAY BE MISSING LIBRARIES USED BY YOUR\n",
        "# NOTEBOOK.\n",
        "\n",
        "import os\n",
        "import sys\n",
        "from tempfile import NamedTemporaryFile\n",
        "from urllib.request import urlopen\n",
        "from urllib.parse import unquote, urlparse\n",
        "from urllib.error import HTTPError\n",
        "from zipfile import ZipFile\n",
        "import tarfile\n",
        "import shutil\n",
        "\n",
        "CHUNK_SIZE = 40960\n",
        "DATA_SOURCE_MAPPING = 'titanic:https%3A%2F%2Fstorage.googleapis.com%2Fkaggle-competitions-data%2Fkaggle-v2%2F3136%2F26502%2Fbundle%2Farchive.zip%3FX-Goog-Algorithm%3DGOOG4-RSA-SHA256%26X-Goog-Credential%3Dgcp-kaggle-com%2540kaggle-161607.iam.gserviceaccount.com%252F20240215%252Fauto%252Fstorage%252Fgoog4_request%26X-Goog-Date%3D20240215T171629Z%26X-Goog-Expires%3D259200%26X-Goog-SignedHeaders%3Dhost%26X-Goog-Signature%3D00193cb1a363d5bbd9593c7a9846539801d231861d804c5e2d4cca1d320326aaebbdb1971e38ece27b65dcefa15feaea4569d467c41672c27b6f8634e35d856cb84e5d003b8a3abf3da9b97697e7e1363f5134a6c84975f2768a20d1b5a9fe224a44ed846b74024116d6c094e3947081ed05a46eca65b6c9321ed978866ef8c8156e205940782b033b443be31a1ff06072d266fbd7b3066d771030556c224f643a664b4b0578c2f4f4625ce1627e351c445bd11f2b4b07c2f6143d218000886b5c5c35c07fd7c367da0b5cb632e75cbd7210e96b07fc7dde457f1acb1b3b1b836f355bce244317c7cef9818a1ef05a92e38ed0558aa101f8a23155910978b11c'\n",
        "\n",
        "KAGGLE_INPUT_PATH='/kaggle/input'\n",
        "KAGGLE_WORKING_PATH='/kaggle/working'\n",
        "KAGGLE_SYMLINK='kaggle'\n",
        "\n",
        "!umount /kaggle/input/ 2> /dev/null\n",
        "shutil.rmtree('/kaggle/input', ignore_errors=True)\n",
        "os.makedirs(KAGGLE_INPUT_PATH, 0o777, exist_ok=True)\n",
        "os.makedirs(KAGGLE_WORKING_PATH, 0o777, exist_ok=True)\n",
        "\n",
        "try:\n",
        "  os.symlink(KAGGLE_INPUT_PATH, os.path.join(\"..\", 'input'), target_is_directory=True)\n",
        "except FileExistsError:\n",
        "  pass\n",
        "try:\n",
        "  os.symlink(KAGGLE_WORKING_PATH, os.path.join(\"..\", 'working'), target_is_directory=True)\n",
        "except FileExistsError:\n",
        "  pass\n",
        "\n",
        "for data_source_mapping in DATA_SOURCE_MAPPING.split(','):\n",
        "    directory, download_url_encoded = data_source_mapping.split(':')\n",
        "    download_url = unquote(download_url_encoded)\n",
        "    filename = urlparse(download_url).path\n",
        "    destination_path = os.path.join(KAGGLE_INPUT_PATH, directory)\n",
        "    try:\n",
        "        with urlopen(download_url) as fileres, NamedTemporaryFile() as tfile:\n",
        "            total_length = fileres.headers['content-length']\n",
        "            print(f'Downloading {directory}, {total_length} bytes compressed')\n",
        "            dl = 0\n",
        "            data = fileres.read(CHUNK_SIZE)\n",
        "            while len(data) > 0:\n",
        "                dl += len(data)\n",
        "                tfile.write(data)\n",
        "                done = int(50 * dl / int(total_length))\n",
        "                sys.stdout.write(f\"\\r[{'=' * done}{' ' * (50-done)}] {dl} bytes downloaded\")\n",
        "                sys.stdout.flush()\n",
        "                data = fileres.read(CHUNK_SIZE)\n",
        "            if filename.endswith('.zip'):\n",
        "              with ZipFile(tfile) as zfile:\n",
        "                zfile.extractall(destination_path)\n",
        "            else:\n",
        "              with tarfile.open(tfile.name) as tarfile:\n",
        "                tarfile.extractall(destination_path)\n",
        "            print(f'\\nDownloaded and uncompressed: {directory}')\n",
        "    except HTTPError as e:\n",
        "        print(f'Failed to load (likely expired) {download_url} to path {destination_path}')\n",
        "        continue\n",
        "    except OSError as e:\n",
        "        print(f'Failed to load {download_url} to path {destination_path}')\n",
        "        continue\n",
        "\n",
        "print('Data source import complete.')\n"
      ],
      "metadata": {
        "id": "yqQY28JUxRVS"
      },
      "cell_type": "code",
      "outputs": [],
      "execution_count": null
    },
    {
      "cell_type": "code",
      "source": [
        "# This Python 3 environment comes with many helpful analytics libraries installed\n",
        "# It is defined by the kaggle/python Docker image: https://github.com/kaggle/docker-python\n",
        "# For example, here's several helpful packages to load\n",
        "\n",
        "import numpy as np # linear algebra\n",
        "import pandas as pd # data processing, CSV file I/O (e.g. pd.read_csv)\n",
        "\n",
        "# Input data files are available in the read-only \"../input/\" directory\n",
        "# For example, running this (by clicking run or pressing Shift+Enter) will list all files under the input directory\n",
        "\n",
        "import os\n",
        "for dirname, _, filenames in os.walk('/kaggle/input'):\n",
        "    for filename in filenames:\n",
        "        print(os.path.join(dirname, filename))\n",
        "\n",
        "# You can write up to 20GB to the current directory (/kaggle/working/) that gets preserved as output when you create a version using \"Save & Run All\"\n",
        "# You can also write temporary files to /kaggle/temp/, but they won't be saved outside of the current session"
      ],
      "metadata": {
        "_uuid": "8f2839f25d086af736a60e9eeb907d3b93b6e0e5",
        "_cell_guid": "b1076dfc-b9ad-4769-8c92-a6c4dae69d19",
        "execution": {
          "iopub.status.busy": "2024-02-12T17:14:10.309897Z",
          "iopub.execute_input": "2024-02-12T17:14:10.311071Z",
          "iopub.status.idle": "2024-02-12T17:14:11.515063Z",
          "shell.execute_reply.started": "2024-02-12T17:14:10.311018Z",
          "shell.execute_reply": "2024-02-12T17:14:11.513823Z"
        },
        "trusted": true,
        "id": "mYwZNHLFxRVZ"
      },
      "execution_count": null,
      "outputs": []
    },
    {
      "cell_type": "code",
      "source": [
        "from sklearn.ensemble import RandomForestClassifier\n",
        "train=pd.read_csv(\"/kaggle/input/titanic/train.csv\")\n",
        "train.head()\n",
        "test=pd.read_csv(\"/kaggle/input/titanic/test.csv\")"
      ],
      "metadata": {
        "execution": {
          "iopub.status.busy": "2024-02-12T17:14:14.880401Z",
          "iopub.execute_input": "2024-02-12T17:14:14.880991Z",
          "iopub.status.idle": "2024-02-12T17:14:15.973101Z",
          "shell.execute_reply.started": "2024-02-12T17:14:14.880957Z",
          "shell.execute_reply": "2024-02-12T17:14:15.971589Z"
        },
        "trusted": true,
        "id": "jPv6IUfZxRVa"
      },
      "execution_count": null,
      "outputs": []
    },
    {
      "cell_type": "code",
      "source": [
        "# X_train=train.drop(\"Survived\",axis=1)\n",
        "# X_train.head()\n",
        "# Y_train=train[\"Survived\"]\n",
        "# X=test.drop(\"Survived\",axis=1)\n",
        "# Y=test[\"Survived\"]\n",
        "features=[\"Pclass\",\"Sex\",\"Parch\",\"SibSp\"]\n",
        "# X_train=train[features] //this line will not work only because we need to convert string features into numbers using One Hot Encoder\n",
        "X_train=pd.get_dummies(train[features])\n",
        "Y_train=train[\"Survived\"]\n",
        "# X_test=test[features]\n",
        "X_test=pd.get_dummies(test[features])\n",
        "# Y_test=test[\"Survived\"]  this line will not work because test data has no survived column"
      ],
      "metadata": {
        "execution": {
          "iopub.status.busy": "2024-02-12T17:35:38.466637Z",
          "iopub.execute_input": "2024-02-12T17:35:38.467226Z",
          "iopub.status.idle": "2024-02-12T17:35:38.491219Z",
          "shell.execute_reply.started": "2024-02-12T17:35:38.467181Z",
          "shell.execute_reply": "2024-02-12T17:35:38.489435Z"
        },
        "trusted": true,
        "id": "qW3YHKETxRVa"
      },
      "execution_count": null,
      "outputs": []
    },
    {
      "cell_type": "code",
      "source": [
        "clf=RandomForestClassifier(100)\n",
        "clf.fit(X_train,Y_train)"
      ],
      "metadata": {
        "execution": {
          "iopub.status.busy": "2024-02-12T17:35:41.683702Z",
          "iopub.execute_input": "2024-02-12T17:35:41.684411Z",
          "iopub.status.idle": "2024-02-12T17:35:42.056703Z",
          "shell.execute_reply.started": "2024-02-12T17:35:41.684357Z",
          "shell.execute_reply": "2024-02-12T17:35:42.053933Z"
        },
        "trusted": true,
        "id": "FP51zKuRxRVb"
      },
      "execution_count": null,
      "outputs": []
    },
    {
      "cell_type": "code",
      "source": [
        "predictions=clf.predict(X_test)\n",
        "output=pd.DataFrame({\"PassengerId\":test.PassengerId,\"Survived\":predictions})\n",
        "output.head()\n",
        "print(output)\n",
        "output.to_csv(\"Submission.csv\",index=False)"
      ],
      "metadata": {
        "execution": {
          "iopub.status.busy": "2024-02-12T18:07:10.145346Z",
          "iopub.execute_input": "2024-02-12T18:07:10.145835Z",
          "iopub.status.idle": "2024-02-12T18:07:10.179067Z",
          "shell.execute_reply.started": "2024-02-12T18:07:10.145788Z",
          "shell.execute_reply": "2024-02-12T18:07:10.177533Z"
        },
        "trusted": true,
        "id": "PJKoby_nxRVb"
      },
      "execution_count": null,
      "outputs": []
    },
    {
      "cell_type": "code",
      "source": [],
      "metadata": {
        "id": "xxCXOCJSxRVc"
      },
      "execution_count": null,
      "outputs": []
    }
  ]
}